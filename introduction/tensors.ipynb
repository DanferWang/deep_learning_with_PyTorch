{
 "cells": [
  {
   "cell_type": "code",
   "execution_count": 1,
   "id": "511c6a3b",
   "metadata": {},
   "outputs": [],
   "source": [
    "import torch\n",
    "import numpy as np"
   ]
  },
  {
   "cell_type": "markdown",
   "id": "f1e3d039",
   "metadata": {},
   "source": [
    "## initializing tensors"
   ]
  },
  {
   "cell_type": "code",
   "execution_count": 4,
   "id": "64818f14",
   "metadata": {},
   "outputs": [
    {
     "data": {
      "text/plain": [
       "tensor([[1, 2],\n",
       "        [3, 4]])"
      ]
     },
     "execution_count": 4,
     "metadata": {},
     "output_type": "execute_result"
    }
   ],
   "source": [
    "# from data directly\n",
    "data = [[1, 2], [3, 4]]\n",
    "x_data = torch.tensor(data)\n",
    "x_data"
   ]
  },
  {
   "cell_type": "code",
   "execution_count": 5,
   "id": "6705c212",
   "metadata": {},
   "outputs": [
    {
     "data": {
      "text/plain": [
       "tensor([[1, 2],\n",
       "        [3, 4]])"
      ]
     },
     "execution_count": 5,
     "metadata": {},
     "output_type": "execute_result"
    }
   ],
   "source": [
    "# from Numpy arrays\n",
    "np_array = np.array(data)\n",
    "x_np = torch.from_numpy(np_array)\n",
    "x_np"
   ]
  },
  {
   "cell_type": "code",
   "execution_count": 8,
   "id": "f4482f85",
   "metadata": {},
   "outputs": [
    {
     "name": "stdout",
     "output_type": "stream",
     "text": [
      "ones tenser: tensor([[0, 0],\n",
      "        [0, 0]])\n",
      "random tensor: tensor([[0.3156, 0.9458],\n",
      "        [0.1077, 0.8758]])\n"
     ]
    }
   ],
   "source": [
    "# from other tensors\n",
    "x_ones = torch.zeros_like(x_data)\n",
    "print(f\"ones tenser: {x_ones}\")\n",
    "\n",
    "x_rand = torch.rand_like(x_data, dtype=torch.float)\n",
    "print(f\"random tensor: {x_rand}\")"
   ]
  },
  {
   "cell_type": "code",
   "execution_count": 10,
   "id": "da7d2a7c",
   "metadata": {},
   "outputs": [
    {
     "name": "stdout",
     "output_type": "stream",
     "text": [
      "random tensor: tensor([[0.1055, 0.7296, 0.6620],\n",
      "        [0.5026, 0.7358, 0.0943]])\n",
      "ones tensor: tensor([[1., 1., 1.],\n",
      "        [1., 1., 1.]])\n",
      "zeros tensor: tensor([[0., 0., 0.],\n",
      "        [0., 0., 0.]])\n"
     ]
    }
   ],
   "source": [
    "# with random or constant values\n",
    "shape = (2, 3, )\n",
    "rand_tensor = torch.rand(shape)\n",
    "ones_tensor = torch.ones(shape)\n",
    "zeros_tensor = torch.zeros(shape)\n",
    "\n",
    "print(f\"random tensor: {rand_tensor}\")\n",
    "print(f\"ones tensor: {ones_tensor}\")\n",
    "print(f\"zeros tensor: {zeros_tensor}\")"
   ]
  },
  {
   "cell_type": "markdown",
   "id": "6aa95f99",
   "metadata": {},
   "source": [
    "## attributes: shape, dataytype, device"
   ]
  },
  {
   "cell_type": "code",
   "execution_count": 16,
   "id": "05fd75b3",
   "metadata": {},
   "outputs": [
    {
     "name": "stdout",
     "output_type": "stream",
     "text": [
      "tensor: tensor([[[[0.7498, 0.2633, 0.5299, 0.4705],\n",
      "          [0.8707, 0.7004, 0.0858, 0.8661],\n",
      "          [0.6931, 0.6941, 0.9231, 0.7968]],\n",
      "\n",
      "         [[0.3501, 0.8215, 0.4948, 0.5249],\n",
      "          [0.5372, 0.5106, 0.8876, 0.6173],\n",
      "          [0.5341, 0.4471, 0.5304, 0.3584]]]])\n",
      "shape: torch.Size([1, 2, 3, 4])\n",
      "datatype: torch.float32\n",
      "device on: cpu\n"
     ]
    }
   ],
   "source": [
    "tensor = torch.rand(1, 2, 3, 4)\n",
    "\n",
    "print(f\"tensor: {tensor}\")\n",
    "print(f\"shape: {tensor.shape}\")\n",
    "print(f\"datatype: {tensor.dtype}\")\n",
    "print(f\"device on: {tensor.device}\")"
   ]
  },
  {
   "cell_type": "markdown",
   "id": "3a4858e8",
   "metadata": {},
   "source": [
    "## operations on tensors"
   ]
  },
  {
   "cell_type": "code",
   "execution_count": 17,
   "id": "9e9f9a58",
   "metadata": {},
   "outputs": [],
   "source": [
    "# tensors are in CPU by default, use .to to change device\n",
    "if torch.cuda.is_available():\n",
    "    tensor = tensor.to('cuda')"
   ]
  },
  {
   "cell_type": "code",
   "execution_count": 20,
   "id": "6020f2f4",
   "metadata": {},
   "outputs": [
    {
     "name": "stdout",
     "output_type": "stream",
     "text": [
      "first row:  tensor([1., 1., 1.])\n",
      "first column:  tensor([1., 1., 1., 1.])\n",
      "last colum:  tensor([1., 1., 1., 1.])\n",
      "tensor([[1., 0., 1.],\n",
      "        [1., 0., 1.],\n",
      "        [1., 0., 1.],\n",
      "        [1., 0., 1.]])\n"
     ]
    }
   ],
   "source": [
    "# index and slice\n",
    "tensor = torch.ones(4, 3)\n",
    "print(\"first row: \", tensor[0])\n",
    "print(\"first column: \", tensor[:, 0])\n",
    "print(\"last colum: \", tensor[..., -1])\n",
    "tensor[:, 1] = 0\n",
    "print(tensor)"
   ]
  },
  {
   "cell_type": "code",
   "execution_count": 22,
   "id": "c14ed78c",
   "metadata": {},
   "outputs": [
    {
     "name": "stdout",
     "output_type": "stream",
     "text": [
      "torch.Size([4, 9])\n",
      "tensor([[1., 0., 1., 1., 0., 1., 1., 0., 1.],\n",
      "        [1., 0., 1., 1., 0., 1., 1., 0., 1.],\n",
      "        [1., 0., 1., 1., 0., 1., 1., 0., 1.],\n",
      "        [1., 0., 1., 1., 0., 1., 1., 0., 1.]])\n"
     ]
    }
   ],
   "source": [
    "# join\n",
    "tensor_cat = torch.cat([tensor, tensor, tensor], dim=1)\n",
    "print(tensor_cat.shape)\n",
    "print(tensor_cat)"
   ]
  },
  {
   "cell_type": "code",
   "execution_count": 27,
   "id": "f63f0e70",
   "metadata": {},
   "outputs": [
    {
     "name": "stdout",
     "output_type": "stream",
     "text": [
      "tensor([[2., 2., 2., 2.],\n",
      "        [2., 2., 2., 2.],\n",
      "        [2., 2., 2., 2.],\n",
      "        [2., 2., 2., 2.]])\n",
      "tensor([[2., 2., 2., 2.],\n",
      "        [2., 2., 2., 2.],\n",
      "        [2., 2., 2., 2.],\n",
      "        [2., 2., 2., 2.]])\n",
      "tensor([[2., 2., 2., 2.],\n",
      "        [2., 2., 2., 2.],\n",
      "        [2., 2., 2., 2.],\n",
      "        [2., 2., 2., 2.]])\n",
      "tensor([[1., 0., 1.],\n",
      "        [1., 0., 1.],\n",
      "        [1., 0., 1.],\n",
      "        [1., 0., 1.]])\n",
      "tensor([[1., 0., 1.],\n",
      "        [1., 0., 1.],\n",
      "        [1., 0., 1.],\n",
      "        [1., 0., 1.]])\n",
      "tensor([[1., 0., 1.],\n",
      "        [1., 0., 1.],\n",
      "        [1., 0., 1.],\n",
      "        [1., 0., 1.]])\n"
     ]
    }
   ],
   "source": [
    "# arithmetic\n",
    "## matrix multiply\n",
    "matmul_1 = tensor @ tensor.T\n",
    "matmul_2 = tensor.matmul(tensor.T)\n",
    "matmul_3 = torch.zeros_like(tensor)\n",
    "torch.matmul(tensor, tensor.T, out=matmul_3)\n",
    "print(matmul_1)\n",
    "print(matmul_2)\n",
    "print(matmul_3)\n",
    "\n",
    "## element-wise multiply\n",
    "elemul_1 = tensor * tensor\n",
    "elemul_2 = tensor.mul(tensor)\n",
    "elemul_3 = torch.zeros_like(tensor)\n",
    "torch.mul(tensor, tensor, out=elemul_3)\n",
    "print(elemul_1)\n",
    "print(elemul_2)\n",
    "print(elemul_3)"
   ]
  },
  {
   "cell_type": "code",
   "execution_count": 28,
   "id": "b87f2585",
   "metadata": {},
   "outputs": [
    {
     "name": "stdout",
     "output_type": "stream",
     "text": [
      "tensor(8.) <class 'torch.Tensor'>\n",
      "8.0 <class 'float'>\n"
     ]
    }
   ],
   "source": [
    "# aggregate to single-element value\n",
    "agg = tensor.sum()\n",
    "agg_item = agg.item()\n",
    "print(agg, type(agg))\n",
    "print(agg_item, type(agg_item))"
   ]
  },
  {
   "cell_type": "code",
   "execution_count": 31,
   "id": "beeea0ef",
   "metadata": {},
   "outputs": [
    {
     "name": "stdout",
     "output_type": "stream",
     "text": [
      "tensor([[1., 0., 1.],\n",
      "        [1., 0., 1.],\n",
      "        [1., 0., 1.],\n",
      "        [1., 0., 1.]])\n",
      "tensor([[7., 6., 7.],\n",
      "        [7., 6., 7.],\n",
      "        [7., 6., 7.],\n",
      "        [7., 6., 7.]])\n",
      "tensor([[5., 4., 5.],\n",
      "        [5., 4., 5.],\n",
      "        [5., 4., 5.],\n",
      "        [5., 4., 5.]])\n"
     ]
    }
   ],
   "source": [
    "# in-place: auto-increase/auto-decrease\n",
    "print(tensor)\n",
    "tensor.add_(6)\n",
    "print(tensor)\n",
    "tensor.sub_(2)\n",
    "print(tensor)"
   ]
  },
  {
   "cell_type": "markdown",
   "id": "67675def",
   "metadata": {},
   "source": [
    "## bridge with NumPy"
   ]
  },
  {
   "cell_type": "code",
   "execution_count": 39,
   "id": "f713e077",
   "metadata": {},
   "outputs": [
    {
     "name": "stdout",
     "output_type": "stream",
     "text": [
      "tensor([[1., 1., 1., 1., 1.],\n",
      "        [1., 1., 1., 1., 1.]])\n",
      "[[1. 1. 1. 1. 1.]\n",
      " [1. 1. 1. 1. 1.]]\n",
      "tensor([[3., 3., 3., 3., 3.],\n",
      "        [3., 3., 3., 3., 3.]])\n",
      "[[3. 3. 3. 3. 3.]\n",
      " [3. 3. 3. 3. 3.]]\n"
     ]
    }
   ],
   "source": [
    "# tensor to array\n",
    "t = torch.ones(2, 5)\n",
    "print(t)\n",
    "n = t.numpy()\n",
    "print(n)\n",
    "\n",
    "# sharing memory with in-place\n",
    "t.add_(2)\n",
    "print(t)\n",
    "print(n)"
   ]
  },
  {
   "cell_type": "code",
   "execution_count": 42,
   "id": "9367c3df",
   "metadata": {},
   "outputs": [
    {
     "name": "stdout",
     "output_type": "stream",
     "text": [
      "[[1. 1. 1. 1. 1.]\n",
      " [1. 1. 1. 1. 1.]]\n",
      "tensor([[1., 1., 1., 1., 1.],\n",
      "        [1., 1., 1., 1., 1.]], dtype=torch.float64)\n"
     ]
    }
   ],
   "source": [
    "# array to tensor\n",
    "n = np.ones((2, 5))\n",
    "print(n)\n",
    "t = torch.from_numpy(n)\n",
    "print(t)\n",
    "\n",
    "np.add(n, 2, out=n)\n",
    "print(n)"
   ]
  }
 ],
 "metadata": {
  "kernelspec": {
   "display_name": "Python 3",
   "language": "python",
   "name": "python3"
  },
  "language_info": {
   "codemirror_mode": {
    "name": "ipython",
    "version": 3
   },
   "file_extension": ".py",
   "mimetype": "text/x-python",
   "name": "python",
   "nbconvert_exporter": "python",
   "pygments_lexer": "ipython3",
   "version": "3.8.8"
  }
 },
 "nbformat": 4,
 "nbformat_minor": 5
}
