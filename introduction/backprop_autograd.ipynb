{
 "cells": [
  {
   "cell_type": "code",
   "execution_count": 1,
   "id": "f04e8689",
   "metadata": {},
   "outputs": [],
   "source": [
    "import torch"
   ]
  },
  {
   "cell_type": "markdown",
   "id": "8d21986e",
   "metadata": {},
   "source": [
    "## one layer NN"
   ]
  },
  {
   "cell_type": "code",
   "execution_count": 2,
   "id": "a2c03511",
   "metadata": {},
   "outputs": [],
   "source": [
    "in_put = torch.ones(5)\n",
    "out_put = torch.zeros(3)\n",
    "weight = torch.randn(5, 3, requires_grad=True)\n",
    "bias = torch.randn(3, requires_grad=True)\n",
    "\n",
    "graph = torch.matmul(in_put, weight) + bias\n",
    "\n",
    "loss = torch.nn.functional.binary_cross_entropy_with_logits(graph, out_put)"
   ]
  },
  {
   "cell_type": "markdown",
   "id": "86854433",
   "metadata": {},
   "source": [
    "## compute gradients"
   ]
  },
  {
   "cell_type": "code",
   "execution_count": 3,
   "id": "79583f6d",
   "metadata": {},
   "outputs": [
    {
     "name": "stdout",
     "output_type": "stream",
     "text": [
      "tensor([[0.3238, 0.0758, 0.1307],\n",
      "        [0.3238, 0.0758, 0.1307],\n",
      "        [0.3238, 0.0758, 0.1307],\n",
      "        [0.3238, 0.0758, 0.1307],\n",
      "        [0.3238, 0.0758, 0.1307]])\n",
      "tensor([0.3238, 0.0758, 0.1307])\n"
     ]
    }
   ],
   "source": [
    "loss.backward()\n",
    "print(weight.grad)\n",
    "print(bias.grad)"
   ]
  },
  {
   "cell_type": "code",
   "execution_count": 6,
   "id": "ce385666",
   "metadata": {},
   "outputs": [
    {
     "name": "stdout",
     "output_type": "stream",
     "text": [
      "True\n",
      "False\n"
     ]
    }
   ],
   "source": [
    "print(graph.requires_grad)\n",
    "# use detech() to block gradient tracking\n",
    "graph_detach = graph.detach()\n",
    "print(graph_detach.requires_grad)"
   ]
  },
  {
   "cell_type": "code",
   "execution_count": null,
   "id": "0c70bf9d",
   "metadata": {},
   "outputs": [],
   "source": []
  }
 ],
 "metadata": {
  "kernelspec": {
   "display_name": "Python 3",
   "language": "python",
   "name": "python3"
  },
  "language_info": {
   "codemirror_mode": {
    "name": "ipython",
    "version": 3
   },
   "file_extension": ".py",
   "mimetype": "text/x-python",
   "name": "python",
   "nbconvert_exporter": "python",
   "pygments_lexer": "ipython3",
   "version": "3.8.8"
  }
 },
 "nbformat": 4,
 "nbformat_minor": 5
}
